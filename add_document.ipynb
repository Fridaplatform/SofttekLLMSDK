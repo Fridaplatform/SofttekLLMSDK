{
 "cells": [
  {
   "cell_type": "code",
   "execution_count": 1,
   "metadata": {},
   "outputs": [
    {
     "name": "stderr",
     "output_type": "stream",
     "text": [
      "/Users/jorgegarcia/Coding/Softtek/Octubre/SofttekLLMSDK/.venv/lib/python3.10/site-packages/pinecone/index.py:4: TqdmWarning: IProgress not found. Please update jupyter and ipywidgets. See https://ipywidgets.readthedocs.io/en/stable/user_install.html\n",
      "  from tqdm.autonotebook import tqdm\n"
     ]
    }
   ],
   "source": [
    "from softtek_llm.chatbots.documentChatbot import DocumentChatBot\n",
    "\n",
    "from softtek_llm.models import OpenAI\n",
    "\n",
    "from softtek_llm.cache import Cache\n",
    "\n",
    "from softtek_llm.vectorStores import PineconeVectorStore\n",
    "\n",
    "from softtek_llm.embeddings import OpenAIEmbeddings\n",
    "\n",
    "from softtek_llm.schemas import Filter\n",
    "\n",
    "from dotenv import load_dotenv\n",
    "\n",
    "import os"
   ]
  },
  {
   "cell_type": "code",
   "execution_count": 2,
   "metadata": {},
   "outputs": [],
   "source": [
    "load_dotenv()\n",
    "\n",
    "OPENAI_API_KEY = os.getenv(\"OPENAI_API_KEY\")\n",
    "\n",
    "if OPENAI_API_KEY is None:\n",
    "    raise ValueError(\"OPENAI_API_KEY not found in .env file\")\n",
    "\n",
    "OPENAI_API_BASE = os.getenv(\"OPENAI_API_BASE\")\n",
    "if OPENAI_API_BASE is None:\n",
    "    raise ValueError(\"OPENAI_API_BASE not found in .env file\")\n",
    "\n",
    "OPENAI_EMBEDDINGS_MODEL_NAME = os.getenv(\"OPENAI_EMBEDDINGS_MODEL_NAME\")\n",
    "if OPENAI_EMBEDDINGS_MODEL_NAME is None:\n",
    "    raise ValueError(\"OPENAI_EMBEDDINGS_MODEL_NAME not found in .env file\")\n",
    "\n",
    "OPENAI_CHAT_MODEL_NAME = os.getenv(\"OPENAI_CHAT_MODEL_NAME\")\n",
    "if OPENAI_CHAT_MODEL_NAME is None:\n",
    "    raise ValueError(\"OPENAI_CHAT_MODEL_NAME not found in .env file\")\n",
    "\n",
    "PINECONE_API_KEY = os.getenv(\"PINECONE_API_KEY\")\n",
    "if PINECONE_API_KEY is None:\n",
    "    raise ValueError(\"PINECONE_API_KEY not found in .env file\")\n",
    "\n",
    "PINECONE_ENVIRONMENT = os.getenv(\"PINECONE_ENVIRONMENT\")\n",
    "if PINECONE_ENVIRONMENT is None:\n",
    "    raise ValueError(\"PINECONE_ENVIRONMENT not found in .env file\")\n",
    "\n",
    "PINECONE_INDEX_NAME = os.getenv(\"PINECONE_INDEX_NAME\")\n",
    "if PINECONE_INDEX_NAME is None:\n",
    "    raise ValueError(\"PINECONE_INDEX_NAME not found in .env file\")"
   ]
  },
  {
   "cell_type": "code",
   "execution_count": 3,
   "metadata": {},
   "outputs": [],
   "source": [
    "vector_store = PineconeVectorStore(\n",
    "    api_key=PINECONE_API_KEY,\n",
    "    environment=PINECONE_ENVIRONMENT,\n",
    "    index_name=PINECONE_INDEX_NAME,\n",
    ")\n",
    "\n",
    "embeddings_model = OpenAIEmbeddings(\n",
    "    api_key=OPENAI_API_KEY,\n",
    "    model_name=OPENAI_EMBEDDINGS_MODEL_NAME,\n",
    "    api_type=\"azure\",\n",
    "    api_base=OPENAI_API_BASE,\n",
    ")\n",
    "\n",
    "cache = Cache(\n",
    "    vector_store=vector_store,\n",
    "    embeddings_model=embeddings_model,\n",
    ")\n",
    "\n",
    "model = OpenAI(\n",
    "    api_key=OPENAI_API_KEY,\n",
    "    model_name=OPENAI_CHAT_MODEL_NAME,\n",
    "    api_type=\"azure\",\n",
    "    api_base=OPENAI_API_BASE,\n",
    "    verbose=True,\n",
    ")\n",
    "\n",
    "filters = [\n",
    "    Filter(\n",
    "        type=\"DENY\",\n",
    "        case=\"ANYTHING about the Titanic. YOU CANNOT talk about the Titanic AT ALL.\",\n",
    "    )\n",
    "]\n",
    "\n",
    "chatbot = DocumentChatBot(\n",
    "    model=model,\n",
    "    knowledge_base=vector_store,\n",
    "    embeddings_model=embeddings_model,\n",
    "    description=\"You are a very helpful and polite chatbot\",\n",
    "    cache=cache,\n",
    "    verbose=True,\n",
    ")"
   ]
  },
  {
   "cell_type": "code",
   "execution_count": 5,
   "metadata": {},
   "outputs": [],
   "source": [
    "chatbot.add_document(\n",
    "    \"/Users/jorgegarcia/Coding/Softtek/Octubre/SofttekLLMSDK/Softñek_LLMSñKà.pdf\",\n",
    "    file_type=\"pdf\",\n",
    "    knowledge_base_namespace=\"documents\",\n",
    ")"
   ]
  },
  {
   "cell_type": "code",
   "execution_count": 10,
   "metadata": {},
   "outputs": [],
   "source": [
    "# chatbot.knowledge_base.delete(delete_all=True, namespace=\"documents\")"
   ]
  },
  {
   "cell_type": "code",
   "execution_count": 4,
   "metadata": {},
   "outputs": [],
   "source": [
    "chatbot.delete_document(\n",
    "    \"/Users/jorgegarcia/Coding/Softtek/Octubre/SofttekLLMSDK/Softñek_LLMSñKà.pdf\",\n",
    "    file_type=\"pdf\",\n",
    "    knowledge_base_namespace=\"documents\",\n",
    ")"
   ]
  },
  {
   "cell_type": "code",
   "execution_count": null,
   "metadata": {},
   "outputs": [],
   "source": []
  }
 ],
 "metadata": {
  "kernelspec": {
   "display_name": ".venv",
   "language": "python",
   "name": "python3"
  },
  "language_info": {
   "codemirror_mode": {
    "name": "ipython",
    "version": 3
   },
   "file_extension": ".py",
   "mimetype": "text/x-python",
   "name": "python",
   "nbconvert_exporter": "python",
   "pygments_lexer": "ipython3",
   "version": "3.10.12"
  },
  "orig_nbformat": 4
 },
 "nbformat": 4,
 "nbformat_minor": 2
}
